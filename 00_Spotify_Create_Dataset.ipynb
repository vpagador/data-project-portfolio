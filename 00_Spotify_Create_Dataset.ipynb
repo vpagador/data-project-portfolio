{
 "cells": [
  {
   "cell_type": "code",
   "execution_count": 1,
   "id": "40317015",
   "metadata": {},
   "outputs": [],
   "source": [
    "import pandas as pd\n",
    "import spotipy\n",
    "from spotipy.oauth2 import SpotifyOAuth\n",
    "import matplotlib.pyplot as plt\n",
    "import seaborn as sns\n",
    "import plotly.express as px"
   ]
  },
  {
   "cell_type": "markdown",
   "id": "32fdf23c",
   "metadata": {},
   "source": [
    "## Authentication"
   ]
  },
  {
   "cell_type": "code",
   "execution_count": 2,
   "id": "807e8d04",
   "metadata": {},
   "outputs": [],
   "source": [
    "spotify_client_info = pd.read_csv('Spotify_auth_cred_flow.csv', header=None)\n",
    "client_id = spotify_client_info.iloc[0,0]\n",
    "client_secret = spotify_client_info.iloc[1,0]\n",
    "redirect_uri = spotify_client_info.iloc[2,0]"
   ]
  },
  {
   "cell_type": "code",
   "execution_count": 3,
   "id": "e73d3dc4",
   "metadata": {},
   "outputs": [],
   "source": [
    "scope = 'user-library-read'\n",
    "\n",
    "auth_manager = SpotifyOAuth(client_id, client_secret, redirect_uri, scope=scope)"
   ]
  },
  {
   "cell_type": "markdown",
   "id": "f33e7e0a",
   "metadata": {},
   "source": [
    "## Get Playlist Songs"
   ]
  },
  {
   "cell_type": "code",
   "execution_count": 4,
   "id": "3b4a09cb",
   "metadata": {},
   "outputs": [],
   "source": [
    "# Function to retrieve song data from Spotify API\n",
    "sp = spotipy.Spotify(auth_manager= auth_manager)"
   ]
  },
  {
   "cell_type": "code",
   "execution_count": 5,
   "id": "e5fcfd81",
   "metadata": {},
   "outputs": [],
   "source": [
    "# Retrieves Songs from 3 Playlists:\n",
    "# 1: Rock, Metal\n",
    "# 2: Disco, Funk, Rock Pop, Old Ballads\n",
    "# 3: RnB, Soul, Slow pop\n",
    "playlist_ids = ['https://open.spotify.com/playlist/1fe3iAJDParVnIt1t7C8xw?si=74244980c18d4bfc',\n",
    "                'https://open.spotify.com/playlist/1A80GmIeSnZo29E0OBokMK?si=7dd80542d03a45ac',\n",
    "               'https://open.spotify.com/playlist/5aOKSZJxYaCg81yZDiZcqV?si=be4363b21f1c4496']"
   ]
  },
  {
   "cell_type": "markdown",
   "id": "7992d0fe",
   "metadata": {},
   "source": [
    "## Get Song Features"
   ]
  },
  {
   "cell_type": "code",
   "execution_count": 6,
   "id": "e8e8b4d7",
   "metadata": {},
   "outputs": [],
   "source": [
    "def get_song_features():\n",
    "    \n",
    "    title = []\n",
    "    artist = []\n",
    "    danceability = []\n",
    "    energy =  []\n",
    "    key = []\n",
    "    loudness = []\n",
    "    mode = []\n",
    "    speechiness = []\n",
    "    acousticness = []\n",
    "    instrumentalness = []\n",
    "    liveness = []\n",
    "    valence = []\n",
    "    tempo = []\n",
    "    duration_ms = []\n",
    "    time_signature = []\n",
    "    \n",
    "    for playlist in playlist_ids:\n",
    "        song = sp.playlist(playlist)\n",
    "        for i in range(100):\n",
    "            feature = sp.audio_features(song['tracks']['items'][i]['track']['id'])[0]\n",
    "            \n",
    "            # get song and artist\n",
    "            title.append(song['tracks']['items'][i]['track']['name'])\n",
    "            artist.append(song['tracks']['items'][i]['track']['album']['artists'][0]['name'])\n",
    "            \n",
    "            # get song features\n",
    "            danceability.append(feature['danceability'])\n",
    "            energy.append(feature['energy'])\n",
    "            key.append(feature['key'])\n",
    "            loudness.append(feature['loudness'])\n",
    "            mode.append(feature['mode'])\n",
    "            speechiness.append(feature['speechiness'])\n",
    "            acousticness.append(feature['acousticness'])\n",
    "            instrumentalness.append(feature['instrumentalness'])\n",
    "            liveness.append(feature['liveness'])\n",
    "            valence.append(feature['valence'])\n",
    "            tempo.append(feature['tempo'])\n",
    "            duration_ms.append(feature['duration_ms'])\n",
    "            time_signature.append(feature['time_signature'])\n",
    "    \n",
    "    # create dataframe\n",
    "    df = pd.DataFrame(zip(title,artist, danceability, energy, key, loudness,\n",
    "                mode, speechiness, acousticness, instrumentalness,\n",
    "                liveness, valence, tempo, duration_ms, time_signature), \n",
    "                      columns = ['song_name','artist', 'danceability','energy','key','loudness','mode', \n",
    "                     'speechiness', 'acousticness','instrumentalness', 'liveness', \n",
    "                     'valence', 'tempo', 'duration_ms','time_signature'])\n",
    "    return df"
   ]
  },
  {
   "cell_type": "code",
   "execution_count": 7,
   "id": "18ea79a1",
   "metadata": {
    "scrolled": true
   },
   "outputs": [],
   "source": [
    "df = get_song_features()"
   ]
  },
  {
   "cell_type": "code",
   "execution_count": 8,
   "id": "b2110dd7",
   "metadata": {},
   "outputs": [
    {
     "data": {
      "text/plain": [
       "song_name           Feel Invincible\n",
       "artist                      Skillet\n",
       "danceability                  0.603\n",
       "energy                        0.886\n",
       "key                               5\n",
       "loudness                     -3.777\n",
       "mode                              0\n",
       "speechiness                  0.0837\n",
       "acousticness                0.00045\n",
       "instrumentalness                0.0\n",
       "liveness                       0.26\n",
       "valence                       0.395\n",
       "tempo                       126.025\n",
       "duration_ms                  229933\n",
       "time_signature                    4\n",
       "Name: 0, dtype: object"
      ]
     },
     "execution_count": 8,
     "metadata": {},
     "output_type": "execute_result"
    }
   ],
   "source": [
    "# check df first row\n",
    "df.iloc[0]"
   ]
  },
  {
   "cell_type": "code",
   "execution_count": 9,
   "id": "5d946176",
   "metadata": {},
   "outputs": [],
   "source": [
    "# convert to csv file\n",
    "df.to_csv('songs_to_cluster.csv')"
   ]
  }
 ],
 "metadata": {
  "kernelspec": {
   "display_name": "Python 3 (ipykernel)",
   "language": "python",
   "name": "python3"
  },
  "language_info": {
   "codemirror_mode": {
    "name": "ipython",
    "version": 3
   },
   "file_extension": ".py",
   "mimetype": "text/x-python",
   "name": "python",
   "nbconvert_exporter": "python",
   "pygments_lexer": "ipython3",
   "version": "3.9.7"
  }
 },
 "nbformat": 4,
 "nbformat_minor": 5
}
